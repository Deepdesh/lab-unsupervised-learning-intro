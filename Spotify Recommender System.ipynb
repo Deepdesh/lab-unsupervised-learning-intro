{
 "cells": [
  {
   "cell_type": "markdown",
   "id": "grateful-italian",
   "metadata": {},
   "source": [
    "# Importing libraries"
   ]
  },
  {
   "cell_type": "code",
   "execution_count": 1,
   "id": "brutal-conservation",
   "metadata": {},
   "outputs": [],
   "source": [
    "\n",
    "import pandas as pd\n",
    "import numpy as np\n",
    "import matplotlib.pyplot as plt\n",
    "\n",
    "from sklearn import cluster\n",
    "from sklearn.preprocessing import StandardScaler\n",
    "from matplotlib.lines import Line2D\n",
    "\n",
    "from sklearn.cluster import KMeans\n",
    "from sklearn.metrics import silhouette_score"
   ]
  },
  {
   "cell_type": "code",
   "execution_count": 3,
   "id": "popular-recommendation",
   "metadata": {},
   "outputs": [],
   "source": [
    "# To make run all you ask in one cell\n",
    "from IPython.core.interactiveshell import InteractiveShell\n",
    "InteractiveShell.ast_node_interactivity = \"all\""
   ]
  },
  {
   "cell_type": "markdown",
   "id": "soviet-england",
   "metadata": {},
   "source": [
    "# Reading hot songs and Spotify songs"
   ]
  },
  {
   "cell_type": "code",
   "execution_count": 2,
   "id": "initial-power",
   "metadata": {},
   "outputs": [],
   "source": [
    "hot_df = pd.read_excel('/Users/deshdeepak/ironhack/lab-web-scraping-single-page/hot_scraped_data.xlsx')\n",
    "spotify_df = pd.read_excel('/Users/deshdeepak/ironhack/lab-web-scraping-single-page/spotify_data.xlsx')\n"
   ]
  },
  {
   "cell_type": "code",
   "execution_count": 4,
   "id": "innovative-shareware",
   "metadata": {},
   "outputs": [
    {
     "data": {
      "text/html": [
       "<div>\n",
       "<style scoped>\n",
       "    .dataframe tbody tr th:only-of-type {\n",
       "        vertical-align: middle;\n",
       "    }\n",
       "\n",
       "    .dataframe tbody tr th {\n",
       "        vertical-align: top;\n",
       "    }\n",
       "\n",
       "    .dataframe thead th {\n",
       "        text-align: right;\n",
       "    }\n",
       "</style>\n",
       "<table border=\"1\" class=\"dataframe\">\n",
       "  <thead>\n",
       "    <tr style=\"text-align: right;\">\n",
       "      <th></th>\n",
       "      <th>song</th>\n",
       "      <th>artist</th>\n",
       "    </tr>\n",
       "  </thead>\n",
       "  <tbody>\n",
       "    <tr>\n",
       "      <th>0</th>\n",
       "      <td>Girl From Rio</td>\n",
       "      <td>Anitta</td>\n",
       "    </tr>\n",
       "    <tr>\n",
       "      <th>1</th>\n",
       "      <td>Don't (feat. RM)</td>\n",
       "      <td>eAeon</td>\n",
       "    </tr>\n",
       "    <tr>\n",
       "      <th>2</th>\n",
       "      <td>Alive (It Feels Like)</td>\n",
       "      <td>Alok</td>\n",
       "    </tr>\n",
       "    <tr>\n",
       "      <th>3</th>\n",
       "      <td>Watermelon Sugar</td>\n",
       "      <td>Harry Styles</td>\n",
       "    </tr>\n",
       "    <tr>\n",
       "      <th>4</th>\n",
       "      <td>Volta Bebê, Volta Neném</td>\n",
       "      <td>DJ Guuga &amp; DJ Ivis</td>\n",
       "    </tr>\n",
       "  </tbody>\n",
       "</table>\n",
       "</div>"
      ],
      "text/plain": [
       "                      song              artist\n",
       "0            Girl From Rio              Anitta\n",
       "1         Don't (feat. RM)               eAeon\n",
       "2    Alive (It Feels Like)                Alok\n",
       "3         Watermelon Sugar        Harry Styles\n",
       "4  Volta Bebê, Volta Neném  DJ Guuga & DJ Ivis"
      ]
     },
     "execution_count": 4,
     "metadata": {},
     "output_type": "execute_result"
    },
    {
     "data": {
      "text/html": [
       "<div>\n",
       "<style scoped>\n",
       "    .dataframe tbody tr th:only-of-type {\n",
       "        vertical-align: middle;\n",
       "    }\n",
       "\n",
       "    .dataframe tbody tr th {\n",
       "        vertical-align: top;\n",
       "    }\n",
       "\n",
       "    .dataframe thead th {\n",
       "        text-align: right;\n",
       "    }\n",
       "</style>\n",
       "<table border=\"1\" class=\"dataframe\">\n",
       "  <thead>\n",
       "    <tr style=\"text-align: right;\">\n",
       "      <th></th>\n",
       "      <th>song</th>\n",
       "      <th>artist</th>\n",
       "      <th>danceability</th>\n",
       "      <th>energy</th>\n",
       "      <th>key</th>\n",
       "      <th>loudness</th>\n",
       "      <th>mode</th>\n",
       "      <th>speechiness</th>\n",
       "      <th>acousticness</th>\n",
       "      <th>instrumentalness</th>\n",
       "      <th>liveness</th>\n",
       "      <th>valence</th>\n",
       "      <th>tempo</th>\n",
       "      <th>duration_ms</th>\n",
       "      <th>time_signature</th>\n",
       "    </tr>\n",
       "  </thead>\n",
       "  <tbody>\n",
       "    <tr>\n",
       "      <th>0</th>\n",
       "      <td>Back In The U.S.S.R. - Remastered 2009</td>\n",
       "      <td>The Beatles</td>\n",
       "      <td>0.486</td>\n",
       "      <td>0.952</td>\n",
       "      <td>9</td>\n",
       "      <td>-7.922</td>\n",
       "      <td>1</td>\n",
       "      <td>0.0489</td>\n",
       "      <td>0.0633</td>\n",
       "      <td>0.000291</td>\n",
       "      <td>0.0600</td>\n",
       "      <td>0.854</td>\n",
       "      <td>142.470</td>\n",
       "      <td>166760</td>\n",
       "      <td>4</td>\n",
       "    </tr>\n",
       "    <tr>\n",
       "      <th>1</th>\n",
       "      <td>Back In The U.S.S.R. - Remastered 2009</td>\n",
       "      <td>The Beatles</td>\n",
       "      <td>0.480</td>\n",
       "      <td>0.969</td>\n",
       "      <td>9</td>\n",
       "      <td>-7.464</td>\n",
       "      <td>1</td>\n",
       "      <td>0.0854</td>\n",
       "      <td>0.0690</td>\n",
       "      <td>0.000220</td>\n",
       "      <td>0.0608</td>\n",
       "      <td>0.494</td>\n",
       "      <td>142.489</td>\n",
       "      <td>163453</td>\n",
       "      <td>4</td>\n",
       "    </tr>\n",
       "    <tr>\n",
       "      <th>2</th>\n",
       "      <td>Back of the Car</td>\n",
       "      <td>Miike Snow</td>\n",
       "      <td>0.806</td>\n",
       "      <td>0.681</td>\n",
       "      <td>4</td>\n",
       "      <td>-4.436</td>\n",
       "      <td>0</td>\n",
       "      <td>0.0287</td>\n",
       "      <td>0.7000</td>\n",
       "      <td>0.008510</td>\n",
       "      <td>0.0762</td>\n",
       "      <td>0.953</td>\n",
       "      <td>93.956</td>\n",
       "      <td>216227</td>\n",
       "      <td>4</td>\n",
       "    </tr>\n",
       "    <tr>\n",
       "      <th>3</th>\n",
       "      <td>Back To Black</td>\n",
       "      <td>Amy Winehouse</td>\n",
       "      <td>0.490</td>\n",
       "      <td>0.725</td>\n",
       "      <td>10</td>\n",
       "      <td>-3.304</td>\n",
       "      <td>1</td>\n",
       "      <td>0.0392</td>\n",
       "      <td>0.1230</td>\n",
       "      <td>0.000027</td>\n",
       "      <td>0.0983</td>\n",
       "      <td>0.335</td>\n",
       "      <td>123.280</td>\n",
       "      <td>240440</td>\n",
       "      <td>4</td>\n",
       "    </tr>\n",
       "    <tr>\n",
       "      <th>4</th>\n",
       "      <td>Back Together</td>\n",
       "      <td>Metronomy</td>\n",
       "      <td>0.712</td>\n",
       "      <td>0.677</td>\n",
       "      <td>4</td>\n",
       "      <td>-9.269</td>\n",
       "      <td>0</td>\n",
       "      <td>0.0809</td>\n",
       "      <td>0.0146</td>\n",
       "      <td>0.000112</td>\n",
       "      <td>0.1160</td>\n",
       "      <td>0.708</td>\n",
       "      <td>127.032</td>\n",
       "      <td>220180</td>\n",
       "      <td>3</td>\n",
       "    </tr>\n",
       "  </tbody>\n",
       "</table>\n",
       "</div>"
      ],
      "text/plain": [
       "                                     song         artist  danceability  \\\n",
       "0  Back In The U.S.S.R. - Remastered 2009    The Beatles         0.486   \n",
       "1  Back In The U.S.S.R. - Remastered 2009    The Beatles         0.480   \n",
       "2                         Back of the Car     Miike Snow         0.806   \n",
       "3                           Back To Black  Amy Winehouse         0.490   \n",
       "4                           Back Together      Metronomy         0.712   \n",
       "\n",
       "   energy  key  loudness  mode  speechiness  acousticness  instrumentalness  \\\n",
       "0   0.952    9    -7.922     1       0.0489        0.0633          0.000291   \n",
       "1   0.969    9    -7.464     1       0.0854        0.0690          0.000220   \n",
       "2   0.681    4    -4.436     0       0.0287        0.7000          0.008510   \n",
       "3   0.725   10    -3.304     1       0.0392        0.1230          0.000027   \n",
       "4   0.677    4    -9.269     0       0.0809        0.0146          0.000112   \n",
       "\n",
       "   liveness  valence    tempo  duration_ms  time_signature  \n",
       "0    0.0600    0.854  142.470       166760               4  \n",
       "1    0.0608    0.494  142.489       163453               4  \n",
       "2    0.0762    0.953   93.956       216227               4  \n",
       "3    0.0983    0.335  123.280       240440               4  \n",
       "4    0.1160    0.708  127.032       220180               3  "
      ]
     },
     "execution_count": 4,
     "metadata": {},
     "output_type": "execute_result"
    }
   ],
   "source": [
    "hot_df.head(5)\n",
    "spotify_df.head(5)"
   ]
  },
  {
   "cell_type": "code",
   "execution_count": 5,
   "id": "precise-affair",
   "metadata": {},
   "outputs": [
    {
     "data": {
      "text/plain": [
       "Index(['song', 'artist'], dtype='object')"
      ]
     },
     "execution_count": 5,
     "metadata": {},
     "output_type": "execute_result"
    },
    {
     "data": {
      "text/plain": [
       "Index(['song', 'artist', 'danceability', 'energy', 'key', 'loudness', 'mode',\n",
       "       'speechiness', 'acousticness', 'instrumentalness', 'liveness',\n",
       "       'valence', 'tempo', 'duration_ms', 'time_signature'],\n",
       "      dtype='object')"
      ]
     },
     "execution_count": 5,
     "metadata": {},
     "output_type": "execute_result"
    }
   ],
   "source": [
    "hot_df.columns\n",
    "spotify_df.columns"
   ]
  },
  {
   "cell_type": "markdown",
   "id": "ideal-catering",
   "metadata": {},
   "source": [
    "# Running unsupervised learning on Spotify_df"
   ]
  },
  {
   "cell_type": "code",
   "execution_count": 6,
   "id": "distant-brief",
   "metadata": {},
   "outputs": [
    {
     "data": {
      "text/html": [
       "<div>\n",
       "<style scoped>\n",
       "    .dataframe tbody tr th:only-of-type {\n",
       "        vertical-align: middle;\n",
       "    }\n",
       "\n",
       "    .dataframe tbody tr th {\n",
       "        vertical-align: top;\n",
       "    }\n",
       "\n",
       "    .dataframe thead th {\n",
       "        text-align: right;\n",
       "    }\n",
       "</style>\n",
       "<table border=\"1\" class=\"dataframe\">\n",
       "  <thead>\n",
       "    <tr style=\"text-align: right;\">\n",
       "      <th></th>\n",
       "      <th>danceability</th>\n",
       "      <th>energy</th>\n",
       "      <th>key</th>\n",
       "      <th>loudness</th>\n",
       "      <th>mode</th>\n",
       "      <th>speechiness</th>\n",
       "      <th>acousticness</th>\n",
       "      <th>instrumentalness</th>\n",
       "      <th>liveness</th>\n",
       "      <th>valence</th>\n",
       "      <th>tempo</th>\n",
       "      <th>duration_ms</th>\n",
       "      <th>time_signature</th>\n",
       "    </tr>\n",
       "  </thead>\n",
       "  <tbody>\n",
       "    <tr>\n",
       "      <th>0</th>\n",
       "      <td>0.486</td>\n",
       "      <td>0.952</td>\n",
       "      <td>9</td>\n",
       "      <td>-7.922</td>\n",
       "      <td>1</td>\n",
       "      <td>0.0489</td>\n",
       "      <td>0.0633</td>\n",
       "      <td>0.000291</td>\n",
       "      <td>0.0600</td>\n",
       "      <td>0.854</td>\n",
       "      <td>142.470</td>\n",
       "      <td>166760</td>\n",
       "      <td>4</td>\n",
       "    </tr>\n",
       "    <tr>\n",
       "      <th>1</th>\n",
       "      <td>0.480</td>\n",
       "      <td>0.969</td>\n",
       "      <td>9</td>\n",
       "      <td>-7.464</td>\n",
       "      <td>1</td>\n",
       "      <td>0.0854</td>\n",
       "      <td>0.0690</td>\n",
       "      <td>0.000220</td>\n",
       "      <td>0.0608</td>\n",
       "      <td>0.494</td>\n",
       "      <td>142.489</td>\n",
       "      <td>163453</td>\n",
       "      <td>4</td>\n",
       "    </tr>\n",
       "  </tbody>\n",
       "</table>\n",
       "</div>"
      ],
      "text/plain": [
       "   danceability  energy  key  loudness  mode  speechiness  acousticness  \\\n",
       "0         0.486   0.952    9    -7.922     1       0.0489        0.0633   \n",
       "1         0.480   0.969    9    -7.464     1       0.0854        0.0690   \n",
       "\n",
       "   instrumentalness  liveness  valence    tempo  duration_ms  time_signature  \n",
       "0          0.000291    0.0600    0.854  142.470       166760               4  \n",
       "1          0.000220    0.0608    0.494  142.489       163453               4  "
      ]
     },
     "execution_count": 6,
     "metadata": {},
     "output_type": "execute_result"
    }
   ],
   "source": [
    "# extracting numerical datatypes from df\n",
    "\n",
    "numericals = spotify_df.select_dtypes(include=np.number)\n",
    "numericals.head(2)"
   ]
  },
  {
   "cell_type": "markdown",
   "id": "harmful-cartridge",
   "metadata": {},
   "source": [
    "## choosing k -- inertia and silhouette method"
   ]
  },
  {
   "cell_type": "code",
   "execution_count": 7,
   "id": "worst-discovery",
   "metadata": {},
   "outputs": [
    {
     "data": {
      "text/plain": [
       "KMeans(n_clusters=2, random_state=1234)"
      ]
     },
     "execution_count": 7,
     "metadata": {},
     "output_type": "execute_result"
    },
    {
     "data": {
      "text/plain": [
       "KMeans(n_clusters=3, random_state=1234)"
      ]
     },
     "execution_count": 7,
     "metadata": {},
     "output_type": "execute_result"
    },
    {
     "data": {
      "text/plain": [
       "KMeans(n_clusters=4, random_state=1234)"
      ]
     },
     "execution_count": 7,
     "metadata": {},
     "output_type": "execute_result"
    },
    {
     "data": {
      "text/plain": [
       "KMeans(n_clusters=5, random_state=1234)"
      ]
     },
     "execution_count": 7,
     "metadata": {},
     "output_type": "execute_result"
    },
    {
     "data": {
      "text/plain": [
       "KMeans(n_clusters=6, random_state=1234)"
      ]
     },
     "execution_count": 7,
     "metadata": {},
     "output_type": "execute_result"
    },
    {
     "data": {
      "text/plain": [
       "KMeans(n_clusters=7, random_state=1234)"
      ]
     },
     "execution_count": 7,
     "metadata": {},
     "output_type": "execute_result"
    },
    {
     "data": {
      "text/plain": [
       "KMeans(random_state=1234)"
      ]
     },
     "execution_count": 7,
     "metadata": {},
     "output_type": "execute_result"
    },
    {
     "data": {
      "text/plain": [
       "KMeans(n_clusters=9, random_state=1234)"
      ]
     },
     "execution_count": 7,
     "metadata": {},
     "output_type": "execute_result"
    },
    {
     "data": {
      "text/plain": [
       "KMeans(n_clusters=10, random_state=1234)"
      ]
     },
     "execution_count": 7,
     "metadata": {},
     "output_type": "execute_result"
    },
    {
     "data": {
      "text/plain": [
       "KMeans(n_clusters=11, random_state=1234)"
      ]
     },
     "execution_count": 7,
     "metadata": {},
     "output_type": "execute_result"
    },
    {
     "data": {
      "text/plain": [
       "KMeans(n_clusters=12, random_state=1234)"
      ]
     },
     "execution_count": 7,
     "metadata": {},
     "output_type": "execute_result"
    },
    {
     "data": {
      "text/plain": [
       "KMeans(n_clusters=13, random_state=1234)"
      ]
     },
     "execution_count": 7,
     "metadata": {},
     "output_type": "execute_result"
    },
    {
     "data": {
      "text/plain": [
       "KMeans(n_clusters=14, random_state=1234)"
      ]
     },
     "execution_count": 7,
     "metadata": {},
     "output_type": "execute_result"
    },
    {
     "data": {
      "text/plain": [
       "KMeans(n_clusters=15, random_state=1234)"
      ]
     },
     "execution_count": 7,
     "metadata": {},
     "output_type": "execute_result"
    },
    {
     "data": {
      "text/plain": [
       "KMeans(n_clusters=16, random_state=1234)"
      ]
     },
     "execution_count": 7,
     "metadata": {},
     "output_type": "execute_result"
    },
    {
     "data": {
      "text/plain": [
       "KMeans(n_clusters=17, random_state=1234)"
      ]
     },
     "execution_count": 7,
     "metadata": {},
     "output_type": "execute_result"
    },
    {
     "data": {
      "text/plain": [
       "KMeans(n_clusters=18, random_state=1234)"
      ]
     },
     "execution_count": 7,
     "metadata": {},
     "output_type": "execute_result"
    },
    {
     "data": {
      "text/plain": [
       "KMeans(n_clusters=19, random_state=1234)"
      ]
     },
     "execution_count": 7,
     "metadata": {},
     "output_type": "execute_result"
    },
    {
     "data": {
      "text/plain": [
       "<Figure size 1152x576 with 0 Axes>"
      ]
     },
     "execution_count": 7,
     "metadata": {},
     "output_type": "execute_result"
    },
    {
     "data": {
      "text/plain": [
       "[<matplotlib.lines.Line2D at 0x124914d30>]"
      ]
     },
     "execution_count": 7,
     "metadata": {},
     "output_type": "execute_result"
    },
    {
     "data": {
      "text/plain": [
       "Text(0.5, 0, 'k')"
      ]
     },
     "execution_count": 7,
     "metadata": {},
     "output_type": "execute_result"
    },
    {
     "data": {
      "text/plain": [
       "Text(0, 0.5, 'inertia')"
      ]
     },
     "execution_count": 7,
     "metadata": {},
     "output_type": "execute_result"
    },
    {
     "data": {
      "text/plain": [
       "([<matplotlib.axis.XTick at 0x124929820>,\n",
       "  <matplotlib.axis.XTick at 0x1249297f0>,\n",
       "  <matplotlib.axis.XTick at 0x1248fb760>,\n",
       "  <matplotlib.axis.XTick at 0x124e275e0>,\n",
       "  <matplotlib.axis.XTick at 0x124e27d30>,\n",
       "  <matplotlib.axis.XTick at 0x124e2c4c0>,\n",
       "  <matplotlib.axis.XTick at 0x124e2cc10>,\n",
       "  <matplotlib.axis.XTick at 0x124e2c4f0>,\n",
       "  <matplotlib.axis.XTick at 0x124e275b0>,\n",
       "  <matplotlib.axis.XTick at 0x124e1e700>,\n",
       "  <matplotlib.axis.XTick at 0x124e1ee50>,\n",
       "  <matplotlib.axis.XTick at 0x124e335e0>,\n",
       "  <matplotlib.axis.XTick at 0x124e33d30>,\n",
       "  <matplotlib.axis.XTick at 0x124e354c0>,\n",
       "  <matplotlib.axis.XTick at 0x124e33490>,\n",
       "  <matplotlib.axis.XTick at 0x124e27280>,\n",
       "  <matplotlib.axis.XTick at 0x124e358b0>,\n",
       "  <matplotlib.axis.XTick at 0x124e39100>],\n",
       " [Text(0, 0, ''),\n",
       "  Text(0, 0, ''),\n",
       "  Text(0, 0, ''),\n",
       "  Text(0, 0, ''),\n",
       "  Text(0, 0, ''),\n",
       "  Text(0, 0, ''),\n",
       "  Text(0, 0, ''),\n",
       "  Text(0, 0, ''),\n",
       "  Text(0, 0, ''),\n",
       "  Text(0, 0, ''),\n",
       "  Text(0, 0, ''),\n",
       "  Text(0, 0, ''),\n",
       "  Text(0, 0, ''),\n",
       "  Text(0, 0, ''),\n",
       "  Text(0, 0, ''),\n",
       "  Text(0, 0, ''),\n",
       "  Text(0, 0, ''),\n",
       "  Text(0, 0, '')])"
      ]
     },
     "execution_count": 7,
     "metadata": {},
     "output_type": "execute_result"
    },
    {
     "data": {
      "text/plain": [
       "Text(0.5, 1.0, 'Elbow Method showing the optimal k')"
      ]
     },
     "execution_count": 7,
     "metadata": {},
     "output_type": "execute_result"
    },
    {
     "data": {
      "image/png": "[encoded data removed]",
      "text/plain": [
       "<Figure size 1152x576 with 1 Axes>"
      ]
     },
     "metadata": {
      "needs_background": "light"
     },
     "output_type": "display_data"
    }
   ],
   "source": [
    "# CHOOSING K: Inertia and Silhouette score\n",
    "\n",
    "# Inertia score method (elbow)\n",
    "\n",
    "K = range(2, 20)  # nº of clusters from 2 to 20\n",
    "inertia = []\n",
    "\n",
    "for k in K:\n",
    "    kmeans = KMeans(n_clusters=k,\n",
    "                    random_state=1234)\n",
    "    kmeans.fit(numericals)\n",
    "    inertia.append(kmeans.inertia_) # inputing the inertia score\n",
    "\n",
    "import matplotlib.pyplot as plt\n",
    "%matplotlib inline\n",
    "\n",
    "plt.figure(figsize=(16,8))\n",
    "plt.plot(K, inertia, 'bx-')\n",
    "plt.xlabel('k')\n",
    "plt.ylabel('inertia')\n",
    "plt.xticks(np.arange(min(K), max(K)+1, 1.0))\n",
    "plt.title('Elbow Method showing the optimal k')"
   ]
  },
  {
   "cell_type": "markdown",
   "id": "guided-paraguay",
   "metadata": {},
   "source": [
    "k = 4 or k = 5 would be a good point from the above plot"
   ]
  },
  {
   "cell_type": "code",
   "execution_count": 8,
   "id": "wanted-attendance",
   "metadata": {},
   "outputs": [
    {
     "data": {
      "text/plain": [
       "KMeans(n_clusters=2, random_state=1234)"
      ]
     },
     "execution_count": 8,
     "metadata": {},
     "output_type": "execute_result"
    },
    {
     "data": {
      "text/plain": [
       "KMeans(n_clusters=3, random_state=1234)"
      ]
     },
     "execution_count": 8,
     "metadata": {},
     "output_type": "execute_result"
    },
    {
     "data": {
      "text/plain": [
       "KMeans(n_clusters=4, random_state=1234)"
      ]
     },
     "execution_count": 8,
     "metadata": {},
     "output_type": "execute_result"
    },
    {
     "data": {
      "text/plain": [
       "KMeans(n_clusters=5, random_state=1234)"
      ]
     },
     "execution_count": 8,
     "metadata": {},
     "output_type": "execute_result"
    },
    {
     "data": {
      "text/plain": [
       "KMeans(n_clusters=6, random_state=1234)"
      ]
     },
     "execution_count": 8,
     "metadata": {},
     "output_type": "execute_result"
    },
    {
     "data": {
      "text/plain": [
       "KMeans(n_clusters=7, random_state=1234)"
      ]
     },
     "execution_count": 8,
     "metadata": {},
     "output_type": "execute_result"
    },
    {
     "data": {
      "text/plain": [
       "KMeans(random_state=1234)"
      ]
     },
     "execution_count": 8,
     "metadata": {},
     "output_type": "execute_result"
    },
    {
     "data": {
      "text/plain": [
       "KMeans(n_clusters=9, random_state=1234)"
      ]
     },
     "execution_count": 8,
     "metadata": {},
     "output_type": "execute_result"
    },
    {
     "data": {
      "text/plain": [
       "KMeans(n_clusters=10, random_state=1234)"
      ]
     },
     "execution_count": 8,
     "metadata": {},
     "output_type": "execute_result"
    },
    {
     "data": {
      "text/plain": [
       "KMeans(n_clusters=11, random_state=1234)"
      ]
     },
     "execution_count": 8,
     "metadata": {},
     "output_type": "execute_result"
    },
    {
     "data": {
      "text/plain": [
       "KMeans(n_clusters=12, random_state=1234)"
      ]
     },
     "execution_count": 8,
     "metadata": {},
     "output_type": "execute_result"
    },
    {
     "data": {
      "text/plain": [
       "KMeans(n_clusters=13, random_state=1234)"
      ]
     },
     "execution_count": 8,
     "metadata": {},
     "output_type": "execute_result"
    },
    {
     "data": {
      "text/plain": [
       "KMeans(n_clusters=14, random_state=1234)"
      ]
     },
     "execution_count": 8,
     "metadata": {},
     "output_type": "execute_result"
    },
    {
     "data": {
      "text/plain": [
       "KMeans(n_clusters=15, random_state=1234)"
      ]
     },
     "execution_count": 8,
     "metadata": {},
     "output_type": "execute_result"
    },
    {
     "data": {
      "text/plain": [
       "KMeans(n_clusters=16, random_state=1234)"
      ]
     },
     "execution_count": 8,
     "metadata": {},
     "output_type": "execute_result"
    },
    {
     "data": {
      "text/plain": [
       "KMeans(n_clusters=17, random_state=1234)"
      ]
     },
     "execution_count": 8,
     "metadata": {},
     "output_type": "execute_result"
    },
    {
     "data": {
      "text/plain": [
       "KMeans(n_clusters=18, random_state=1234)"
      ]
     },
     "execution_count": 8,
     "metadata": {},
     "output_type": "execute_result"
    },
    {
     "data": {
      "text/plain": [
       "KMeans(n_clusters=19, random_state=1234)"
      ]
     },
     "execution_count": 8,
     "metadata": {},
     "output_type": "execute_result"
    },
    {
     "data": {
      "text/plain": [
       "<Figure size 1152x576 with 0 Axes>"
      ]
     },
     "execution_count": 8,
     "metadata": {},
     "output_type": "execute_result"
    },
    {
     "data": {
      "text/plain": [
       "[<matplotlib.lines.Line2D at 0x124ce21f0>]"
      ]
     },
     "execution_count": 8,
     "metadata": {},
     "output_type": "execute_result"
    },
    {
     "data": {
      "text/plain": [
       "Text(0.5, 0, 'k')"
      ]
     },
     "execution_count": 8,
     "metadata": {},
     "output_type": "execute_result"
    },
    {
     "data": {
      "text/plain": [
       "Text(0, 0.5, 'silhouette score')"
      ]
     },
     "execution_count": 8,
     "metadata": {},
     "output_type": "execute_result"
    },
    {
     "data": {
      "text/plain": [
       "([<matplotlib.axis.XTick at 0x124c5bc70>,\n",
       "  <matplotlib.axis.XTick at 0x124c5bc40>,\n",
       "  <matplotlib.axis.XTick at 0x124c5bac0>,\n",
       "  <matplotlib.axis.XTick at 0x124ce28b0>,\n",
       "  <matplotlib.axis.XTick at 0x124cec190>,\n",
       "  <matplotlib.axis.XTick at 0x124cec820>,\n",
       "  <matplotlib.axis.XTick at 0x124cf4070>,\n",
       "  <matplotlib.axis.XTick at 0x124cf4700>,\n",
       "  <matplotlib.axis.XTick at 0x124cecf40>,\n",
       "  <matplotlib.axis.XTick at 0x124ce2be0>,\n",
       "  <matplotlib.axis.XTick at 0x124cf43a0>,\n",
       "  <matplotlib.axis.XTick at 0x124cef550>,\n",
       "  <matplotlib.axis.XTick at 0x124cefca0>,\n",
       "  <matplotlib.axis.XTick at 0x124ce4430>,\n",
       "  <matplotlib.axis.XTick at 0x124ce4b80>,\n",
       "  <matplotlib.axis.XTick at 0x124ce4760>,\n",
       "  <matplotlib.axis.XTick at 0x124cef520>,\n",
       "  <matplotlib.axis.XTick at 0x124d10190>],\n",
       " [Text(0, 0, ''),\n",
       "  Text(0, 0, ''),\n",
       "  Text(0, 0, ''),\n",
       "  Text(0, 0, ''),\n",
       "  Text(0, 0, ''),\n",
       "  Text(0, 0, ''),\n",
       "  Text(0, 0, ''),\n",
       "  Text(0, 0, ''),\n",
       "  Text(0, 0, ''),\n",
       "  Text(0, 0, ''),\n",
       "  Text(0, 0, ''),\n",
       "  Text(0, 0, ''),\n",
       "  Text(0, 0, ''),\n",
       "  Text(0, 0, ''),\n",
       "  Text(0, 0, ''),\n",
       "  Text(0, 0, ''),\n",
       "  Text(0, 0, ''),\n",
       "  Text(0, 0, '')])"
      ]
     },
     "execution_count": 8,
     "metadata": {},
     "output_type": "execute_result"
    },
    {
     "data": {
      "text/plain": [
       "Text(0.5, 1.0, 'Optimal k')"
      ]
     },
     "execution_count": 8,
     "metadata": {},
     "output_type": "execute_result"
    },
    {
     "data": {
      "image/png": "[encoded data removed]",
      "text/plain": [
       "<Figure size 1152x576 with 1 Axes>"
      ]
     },
     "metadata": {
      "needs_background": "light"
     },
     "output_type": "display_data"
    }
   ],
   "source": [
    "# Silhouette score method: the higher, the better\n",
    "\n",
    "K = range(2, 20)\n",
    "silhouette = []\n",
    "\n",
    "for k in K:\n",
    "    kmeans = KMeans(n_clusters=k,\n",
    "                    random_state=1234)\n",
    "    kmeans.fit(numericals)\n",
    "    silhouette.append(silhouette_score(numericals, kmeans.predict(numericals)))\n",
    "\n",
    "\n",
    "plt.figure(figsize=(16,8))\n",
    "plt.plot(K, silhouette, 'bx-')\n",
    "plt.xlabel('k')\n",
    "plt.ylabel('silhouette score')\n",
    "plt.xticks(np.arange(min(K), max(K)+1, 1.0))\n",
    "plt.title('Optimal k')"
   ]
  },
  {
   "cell_type": "markdown",
   "id": "enormous-heart",
   "metadata": {},
   "source": [
    "k = 5, looks like it will be our best option!"
   ]
  },
  {
   "cell_type": "code",
   "execution_count": 10,
   "id": "later-tourism",
   "metadata": {},
   "outputs": [
    {
     "data": {
      "text/plain": [
       "array([[-0.56318988,  1.44632948,  1.05511813, ...,  0.77853156,\n",
       "        -0.7114639 ,  0.21188329],\n",
       "       [-0.60074022,  1.51688622,  1.05511813, ...,  0.77918293,\n",
       "        -0.74926016,  0.21188329],\n",
       "       [ 1.43949478,  0.32157195, -0.33799014, ..., -0.88463832,\n",
       "        -0.1460973 ,  0.21188329],\n",
       "       ...,\n",
       "       [ 1.58343774,  1.23050884,  1.33373978, ..., -0.89122051,\n",
       "        -1.57721188,  0.21188329],\n",
       "       [ 0.73229676, -0.43795067, -1.45247674, ..., -1.3623617 ,\n",
       "        -1.33986237,  0.21188329],\n",
       "       [-0.77597513, -0.7824336 , -0.05936848, ..., -1.21374808,\n",
       "        -1.48816724,  0.21188329]])"
      ]
     },
     "execution_count": 10,
     "metadata": {},
     "output_type": "execute_result"
    }
   ],
   "source": [
    "# CLUSTERING: K-Means\n",
    "\n",
    "scaler = StandardScaler()\n",
    "\n",
    "# Normalizing \n",
    "numerical_norm = scaler.fit_transform(numericals)\n",
    "\n",
    "numerical_norm"
   ]
  },
  {
   "cell_type": "code",
   "execution_count": 12,
   "id": "massive-article",
   "metadata": {},
   "outputs": [
    {
     "data": {
      "text/plain": [
       "KMeans(n_clusters=5, random_state=1234)"
      ]
     },
     "execution_count": 12,
     "metadata": {},
     "output_type": "execute_result"
    }
   ],
   "source": [
    "# KMeans: grouping the data set\n",
    "kmeans = cluster.KMeans(n_clusters=5, random_state=1234)\n",
    "\n",
    "# Fiting kmeans into my numerical dataset (numerical_spotify)\n",
    "kmeans.fit(numerical_norm)\n",
    "\n",
    "# Creating the kmeans cluster prediction for our dataset\n",
    "clusters = kmeans.predict(numerical_norm)"
   ]
  },
  {
   "cell_type": "code",
   "execution_count": 13,
   "id": "parental-approval",
   "metadata": {},
   "outputs": [
    {
     "data": {
      "text/plain": [
       "0    1139\n",
       "1     739\n",
       "2    2277\n",
       "3    4260\n",
       "4    2656\n",
       "dtype: int64"
      ]
     },
     "execution_count": 13,
     "metadata": {},
     "output_type": "execute_result"
    }
   ],
   "source": [
    "# Checking the size of the clusters\n",
    "pd.Series(clusters).value_counts().sort_index()"
   ]
  },
  {
   "cell_type": "code",
   "execution_count": 14,
   "id": "corrected-somerset",
   "metadata": {},
   "outputs": [
    {
     "data": {
      "text/plain": [
       "100251.38245222108"
      ]
     },
     "execution_count": 14,
     "metadata": {},
     "output_type": "execute_result"
    }
   ],
   "source": [
    "\n",
    "# Metric to check the performance of our Unsupervised learning algorithm\n",
    "\n",
    "kmeans.inertia_"
   ]
  },
  {
   "cell_type": "markdown",
   "id": "natural-egyptian",
   "metadata": {},
   "source": [
    "^^ quite high, let's see if we can bring it down a little"
   ]
  },
  {
   "cell_type": "code",
   "execution_count": 18,
   "id": "sustained-highland",
   "metadata": {},
   "outputs": [
    {
     "data": {
      "text/plain": [
       "KMeans(init='random', max_iter=1000, n_clusters=5, n_init=1000,\n",
       "       random_state=12345, tol=0)"
      ]
     },
     "execution_count": 18,
     "metadata": {},
     "output_type": "execute_result"
    },
    {
     "name": "stdout",
     "output_type": "stream",
     "text": [
      "99940.05074621263\n"
     ]
    }
   ],
   "source": [
    "kmeans = KMeans(n_clusters=5,\n",
    "                init=\"random\",\n",
    "                n_init=1000,  # try with 1, 4, 8, 20, 30, 100...\n",
    "                max_iter=1000,\n",
    "                tol=0,\n",
    "                random_state=12345)\n",
    "kmeans.fit(numerical_norm)\n",
    "print(kmeans.inertia_)"
   ]
  },
  {
   "cell_type": "markdown",
   "id": "bibliographic-trauma",
   "metadata": {},
   "source": [
    "^^ not a lot difference, even though I tweaked the parameters by quite a lot."
   ]
  },
  {
   "cell_type": "markdown",
   "id": "pending-wallpaper",
   "metadata": {},
   "source": [
    "# Assigning clusters\n"
   ]
  },
  {
   "cell_type": "code",
   "execution_count": 19,
   "id": "raising-interval",
   "metadata": {},
   "outputs": [
    {
     "data": {
      "text/html": [
       "<div>\n",
       "<style scoped>\n",
       "    .dataframe tbody tr th:only-of-type {\n",
       "        vertical-align: middle;\n",
       "    }\n",
       "\n",
       "    .dataframe tbody tr th {\n",
       "        vertical-align: top;\n",
       "    }\n",
       "\n",
       "    .dataframe thead th {\n",
       "        text-align: right;\n",
       "    }\n",
       "</style>\n",
       "<table border=\"1\" class=\"dataframe\">\n",
       "  <thead>\n",
       "    <tr style=\"text-align: right;\">\n",
       "      <th></th>\n",
       "      <th>0</th>\n",
       "    </tr>\n",
       "  </thead>\n",
       "  <tbody>\n",
       "    <tr>\n",
       "      <th>0</th>\n",
       "      <td>3</td>\n",
       "    </tr>\n",
       "    <tr>\n",
       "      <th>1</th>\n",
       "      <td>3</td>\n",
       "    </tr>\n",
       "    <tr>\n",
       "      <th>2</th>\n",
       "      <td>4</td>\n",
       "    </tr>\n",
       "    <tr>\n",
       "      <th>3</th>\n",
       "      <td>3</td>\n",
       "    </tr>\n",
       "    <tr>\n",
       "      <th>4</th>\n",
       "      <td>4</td>\n",
       "    </tr>\n",
       "    <tr>\n",
       "      <th>...</th>\n",
       "      <td>...</td>\n",
       "    </tr>\n",
       "    <tr>\n",
       "      <th>11066</th>\n",
       "      <td>0</td>\n",
       "    </tr>\n",
       "    <tr>\n",
       "      <th>11067</th>\n",
       "      <td>1</td>\n",
       "    </tr>\n",
       "    <tr>\n",
       "      <th>11068</th>\n",
       "      <td>1</td>\n",
       "    </tr>\n",
       "    <tr>\n",
       "      <th>11069</th>\n",
       "      <td>0</td>\n",
       "    </tr>\n",
       "    <tr>\n",
       "      <th>11070</th>\n",
       "      <td>0</td>\n",
       "    </tr>\n",
       "  </tbody>\n",
       "</table>\n",
       "<p>11071 rows × 1 columns</p>\n",
       "</div>"
      ],
      "text/plain": [
       "       0\n",
       "0      3\n",
       "1      3\n",
       "2      4\n",
       "3      3\n",
       "4      4\n",
       "...   ..\n",
       "11066  0\n",
       "11067  1\n",
       "11068  1\n",
       "11069  0\n",
       "11070  0\n",
       "\n",
       "[11071 rows x 1 columns]"
      ]
     },
     "execution_count": 19,
     "metadata": {},
     "output_type": "execute_result"
    }
   ],
   "source": [
    "clusters = pd.DataFrame(clusters)\n",
    "clusters"
   ]
  },
  {
   "cell_type": "code",
   "execution_count": 20,
   "id": "hundred-commercial",
   "metadata": {},
   "outputs": [
    {
     "data": {
      "text/html": [
       "<div>\n",
       "<style scoped>\n",
       "    .dataframe tbody tr th:only-of-type {\n",
       "        vertical-align: middle;\n",
       "    }\n",
       "\n",
       "    .dataframe tbody tr th {\n",
       "        vertical-align: top;\n",
       "    }\n",
       "\n",
       "    .dataframe thead th {\n",
       "        text-align: right;\n",
       "    }\n",
       "</style>\n",
       "<table border=\"1\" class=\"dataframe\">\n",
       "  <thead>\n",
       "    <tr style=\"text-align: right;\">\n",
       "      <th></th>\n",
       "      <th>song</th>\n",
       "      <th>artist</th>\n",
       "      <th>danceability</th>\n",
       "      <th>energy</th>\n",
       "      <th>key</th>\n",
       "      <th>loudness</th>\n",
       "      <th>mode</th>\n",
       "      <th>speechiness</th>\n",
       "      <th>acousticness</th>\n",
       "      <th>instrumentalness</th>\n",
       "      <th>liveness</th>\n",
       "      <th>valence</th>\n",
       "      <th>tempo</th>\n",
       "      <th>duration_ms</th>\n",
       "      <th>time_signature</th>\n",
       "      <th>0</th>\n",
       "    </tr>\n",
       "  </thead>\n",
       "  <tbody>\n",
       "    <tr>\n",
       "      <th>7756</th>\n",
       "      <td>Love on Me - Ookay Remix</td>\n",
       "      <td>Galantis</td>\n",
       "      <td>0.7160</td>\n",
       "      <td>0.942</td>\n",
       "      <td>1</td>\n",
       "      <td>-2.761</td>\n",
       "      <td>0</td>\n",
       "      <td>0.2070</td>\n",
       "      <td>0.034300</td>\n",
       "      <td>0.010100</td>\n",
       "      <td>0.7400</td>\n",
       "      <td>0.4150</td>\n",
       "      <td>123.982</td>\n",
       "      <td>227379</td>\n",
       "      <td>4</td>\n",
       "      <td>4</td>\n",
       "    </tr>\n",
       "    <tr>\n",
       "      <th>5911</th>\n",
       "      <td>Noire lumière</td>\n",
       "      <td>David Goudreault</td>\n",
       "      <td>0.5160</td>\n",
       "      <td>0.432</td>\n",
       "      <td>2</td>\n",
       "      <td>-9.485</td>\n",
       "      <td>1</td>\n",
       "      <td>0.3440</td>\n",
       "      <td>0.905000</td>\n",
       "      <td>0.000000</td>\n",
       "      <td>0.0935</td>\n",
       "      <td>0.4520</td>\n",
       "      <td>84.848</td>\n",
       "      <td>199023</td>\n",
       "      <td>4</td>\n",
       "      <td>1</td>\n",
       "    </tr>\n",
       "    <tr>\n",
       "      <th>2502</th>\n",
       "      <td>Situations</td>\n",
       "      <td>Jack Johnson</td>\n",
       "      <td>0.8850</td>\n",
       "      <td>0.329</td>\n",
       "      <td>11</td>\n",
       "      <td>-14.663</td>\n",
       "      <td>1</td>\n",
       "      <td>0.2380</td>\n",
       "      <td>0.860000</td>\n",
       "      <td>0.180000</td>\n",
       "      <td>0.1100</td>\n",
       "      <td>0.9020</td>\n",
       "      <td>93.510</td>\n",
       "      <td>77213</td>\n",
       "      <td>4</td>\n",
       "      <td>1</td>\n",
       "    </tr>\n",
       "    <tr>\n",
       "      <th>9020</th>\n",
       "      <td>You Should Be Dancing - Edit / From \"Saturday ...</td>\n",
       "      <td>Bee Gees</td>\n",
       "      <td>0.6810</td>\n",
       "      <td>0.716</td>\n",
       "      <td>0</td>\n",
       "      <td>-10.911</td>\n",
       "      <td>1</td>\n",
       "      <td>0.0333</td>\n",
       "      <td>0.018200</td>\n",
       "      <td>0.170000</td>\n",
       "      <td>0.3370</td>\n",
       "      <td>0.9630</td>\n",
       "      <td>123.009</td>\n",
       "      <td>256493</td>\n",
       "      <td>4</td>\n",
       "      <td>3</td>\n",
       "    </tr>\n",
       "    <tr>\n",
       "      <th>4343</th>\n",
       "      <td>Icky Thump</td>\n",
       "      <td>The White Stripes</td>\n",
       "      <td>0.4240</td>\n",
       "      <td>0.632</td>\n",
       "      <td>9</td>\n",
       "      <td>-7.243</td>\n",
       "      <td>1</td>\n",
       "      <td>0.0922</td>\n",
       "      <td>0.021000</td>\n",
       "      <td>0.011700</td>\n",
       "      <td>0.0545</td>\n",
       "      <td>0.3560</td>\n",
       "      <td>97.694</td>\n",
       "      <td>254533</td>\n",
       "      <td>4</td>\n",
       "      <td>3</td>\n",
       "    </tr>\n",
       "    <tr>\n",
       "      <th>10194</th>\n",
       "      <td>Desire</td>\n",
       "      <td>ATEEZ</td>\n",
       "      <td>0.5800</td>\n",
       "      <td>0.810</td>\n",
       "      <td>0</td>\n",
       "      <td>-4.503</td>\n",
       "      <td>1</td>\n",
       "      <td>0.1020</td>\n",
       "      <td>0.014600</td>\n",
       "      <td>0.000000</td>\n",
       "      <td>0.7020</td>\n",
       "      <td>0.5740</td>\n",
       "      <td>101.971</td>\n",
       "      <td>234509</td>\n",
       "      <td>4</td>\n",
       "      <td>3</td>\n",
       "    </tr>\n",
       "    <tr>\n",
       "      <th>1798</th>\n",
       "      <td>Merci</td>\n",
       "      <td>Philippe Brach</td>\n",
       "      <td>0.3840</td>\n",
       "      <td>0.455</td>\n",
       "      <td>4</td>\n",
       "      <td>-6.964</td>\n",
       "      <td>0</td>\n",
       "      <td>0.0291</td>\n",
       "      <td>0.727000</td>\n",
       "      <td>0.004790</td>\n",
       "      <td>0.0920</td>\n",
       "      <td>0.0686</td>\n",
       "      <td>115.892</td>\n",
       "      <td>260520</td>\n",
       "      <td>5</td>\n",
       "      <td>2</td>\n",
       "    </tr>\n",
       "    <tr>\n",
       "      <th>668</th>\n",
       "      <td>Faker</td>\n",
       "      <td>Miike Snow</td>\n",
       "      <td>0.5230</td>\n",
       "      <td>0.367</td>\n",
       "      <td>0</td>\n",
       "      <td>-9.903</td>\n",
       "      <td>0</td>\n",
       "      <td>0.0304</td>\n",
       "      <td>0.876000</td>\n",
       "      <td>0.917000</td>\n",
       "      <td>0.1920</td>\n",
       "      <td>0.3340</td>\n",
       "      <td>110.133</td>\n",
       "      <td>153667</td>\n",
       "      <td>4</td>\n",
       "      <td>0</td>\n",
       "    </tr>\n",
       "    <tr>\n",
       "      <th>8360</th>\n",
       "      <td>The Things You Do</td>\n",
       "      <td>Griffin Stoller</td>\n",
       "      <td>0.6840</td>\n",
       "      <td>0.631</td>\n",
       "      <td>0</td>\n",
       "      <td>-6.746</td>\n",
       "      <td>0</td>\n",
       "      <td>0.0378</td>\n",
       "      <td>0.306000</td>\n",
       "      <td>0.000050</td>\n",
       "      <td>0.1030</td>\n",
       "      <td>0.5280</td>\n",
       "      <td>91.958</td>\n",
       "      <td>172174</td>\n",
       "      <td>4</td>\n",
       "      <td>4</td>\n",
       "    </tr>\n",
       "    <tr>\n",
       "      <th>9541</th>\n",
       "      <td>Good Day</td>\n",
       "      <td>DNCE</td>\n",
       "      <td>0.7210</td>\n",
       "      <td>0.660</td>\n",
       "      <td>5</td>\n",
       "      <td>-4.972</td>\n",
       "      <td>0</td>\n",
       "      <td>0.0429</td>\n",
       "      <td>0.061300</td>\n",
       "      <td>0.000000</td>\n",
       "      <td>0.1710</td>\n",
       "      <td>0.8980</td>\n",
       "      <td>110.006</td>\n",
       "      <td>218973</td>\n",
       "      <td>4</td>\n",
       "      <td>4</td>\n",
       "    </tr>\n",
       "    <tr>\n",
       "      <th>3713</th>\n",
       "      <td>Move Along</td>\n",
       "      <td>The All-American Rejects</td>\n",
       "      <td>0.5180</td>\n",
       "      <td>0.916</td>\n",
       "      <td>3</td>\n",
       "      <td>-3.858</td>\n",
       "      <td>1</td>\n",
       "      <td>0.0454</td>\n",
       "      <td>0.000148</td>\n",
       "      <td>0.000000</td>\n",
       "      <td>0.2910</td>\n",
       "      <td>0.6460</td>\n",
       "      <td>109.864</td>\n",
       "      <td>238880</td>\n",
       "      <td>4</td>\n",
       "      <td>3</td>\n",
       "    </tr>\n",
       "    <tr>\n",
       "      <th>4668</th>\n",
       "      <td>One</td>\n",
       "      <td>Aimee Mann</td>\n",
       "      <td>0.6120</td>\n",
       "      <td>0.166</td>\n",
       "      <td>4</td>\n",
       "      <td>-13.974</td>\n",
       "      <td>0</td>\n",
       "      <td>0.0410</td>\n",
       "      <td>0.848000</td>\n",
       "      <td>0.001390</td>\n",
       "      <td>0.1250</td>\n",
       "      <td>0.3560</td>\n",
       "      <td>124.433</td>\n",
       "      <td>173653</td>\n",
       "      <td>4</td>\n",
       "      <td>2</td>\n",
       "    </tr>\n",
       "    <tr>\n",
       "      <th>10946</th>\n",
       "      <td>we'll stay inside when it rains</td>\n",
       "      <td>Rook1e</td>\n",
       "      <td>0.7000</td>\n",
       "      <td>0.134</td>\n",
       "      <td>9</td>\n",
       "      <td>-17.898</td>\n",
       "      <td>1</td>\n",
       "      <td>0.0771</td>\n",
       "      <td>0.592000</td>\n",
       "      <td>0.845000</td>\n",
       "      <td>0.1070</td>\n",
       "      <td>0.4350</td>\n",
       "      <td>160.033</td>\n",
       "      <td>130586</td>\n",
       "      <td>4</td>\n",
       "      <td>0</td>\n",
       "    </tr>\n",
       "    <tr>\n",
       "      <th>6837</th>\n",
       "      <td>Feel My Love - Manatee Commune Remix</td>\n",
       "      <td>Phebe Starr</td>\n",
       "      <td>0.7530</td>\n",
       "      <td>0.769</td>\n",
       "      <td>2</td>\n",
       "      <td>-5.668</td>\n",
       "      <td>1</td>\n",
       "      <td>0.1060</td>\n",
       "      <td>0.104000</td>\n",
       "      <td>0.000294</td>\n",
       "      <td>0.1040</td>\n",
       "      <td>0.2840</td>\n",
       "      <td>119.988</td>\n",
       "      <td>228000</td>\n",
       "      <td>4</td>\n",
       "      <td>3</td>\n",
       "    </tr>\n",
       "    <tr>\n",
       "      <th>790</th>\n",
       "      <td>Gaston</td>\n",
       "      <td>Philippe Brach</td>\n",
       "      <td>0.5530</td>\n",
       "      <td>0.802</td>\n",
       "      <td>2</td>\n",
       "      <td>-5.731</td>\n",
       "      <td>0</td>\n",
       "      <td>0.0702</td>\n",
       "      <td>0.182000</td>\n",
       "      <td>0.000001</td>\n",
       "      <td>0.0590</td>\n",
       "      <td>0.4960</td>\n",
       "      <td>125.914</td>\n",
       "      <td>225480</td>\n",
       "      <td>4</td>\n",
       "      <td>4</td>\n",
       "    </tr>\n",
       "    <tr>\n",
       "      <th>8915</th>\n",
       "      <td>It Is Well (Live)</td>\n",
       "      <td>Bethel Music</td>\n",
       "      <td>0.2820</td>\n",
       "      <td>0.251</td>\n",
       "      <td>4</td>\n",
       "      <td>-10.648</td>\n",
       "      <td>0</td>\n",
       "      <td>0.0315</td>\n",
       "      <td>0.699000</td>\n",
       "      <td>0.000015</td>\n",
       "      <td>0.1100</td>\n",
       "      <td>0.1100</td>\n",
       "      <td>129.826</td>\n",
       "      <td>385053</td>\n",
       "      <td>4</td>\n",
       "      <td>2</td>\n",
       "    </tr>\n",
       "    <tr>\n",
       "      <th>5069</th>\n",
       "      <td>California - Tchad Blake Mix</td>\n",
       "      <td>Phantom Planet</td>\n",
       "      <td>0.4000</td>\n",
       "      <td>0.805</td>\n",
       "      <td>4</td>\n",
       "      <td>-7.305</td>\n",
       "      <td>1</td>\n",
       "      <td>0.0407</td>\n",
       "      <td>0.038700</td>\n",
       "      <td>0.000054</td>\n",
       "      <td>0.1090</td>\n",
       "      <td>0.3240</td>\n",
       "      <td>158.459</td>\n",
       "      <td>193933</td>\n",
       "      <td>4</td>\n",
       "      <td>3</td>\n",
       "    </tr>\n",
       "    <tr>\n",
       "      <th>6618</th>\n",
       "      <td>Fool's Gold</td>\n",
       "      <td>Aaron Carter</td>\n",
       "      <td>0.6810</td>\n",
       "      <td>0.739</td>\n",
       "      <td>5</td>\n",
       "      <td>-3.938</td>\n",
       "      <td>0</td>\n",
       "      <td>0.0337</td>\n",
       "      <td>0.049900</td>\n",
       "      <td>0.000000</td>\n",
       "      <td>0.0819</td>\n",
       "      <td>0.7830</td>\n",
       "      <td>130.046</td>\n",
       "      <td>196663</td>\n",
       "      <td>4</td>\n",
       "      <td>4</td>\n",
       "    </tr>\n",
       "    <tr>\n",
       "      <th>946</th>\n",
       "      <td>A Hard Day's Night - Remastered 2009</td>\n",
       "      <td>The Beatles</td>\n",
       "      <td>0.5900</td>\n",
       "      <td>0.805</td>\n",
       "      <td>0</td>\n",
       "      <td>-6.481</td>\n",
       "      <td>1</td>\n",
       "      <td>0.0371</td>\n",
       "      <td>0.137000</td>\n",
       "      <td>0.000000</td>\n",
       "      <td>0.0996</td>\n",
       "      <td>0.7970</td>\n",
       "      <td>138.514</td>\n",
       "      <td>154200</td>\n",
       "      <td>4</td>\n",
       "      <td>3</td>\n",
       "    </tr>\n",
       "    <tr>\n",
       "      <th>690</th>\n",
       "      <td>Fever</td>\n",
       "      <td>The Black Keys</td>\n",
       "      <td>0.0000</td>\n",
       "      <td>0.000</td>\n",
       "      <td>0</td>\n",
       "      <td>-60.000</td>\n",
       "      <td>0</td>\n",
       "      <td>0.0000</td>\n",
       "      <td>0.000000</td>\n",
       "      <td>0.000000</td>\n",
       "      <td>0.0000</td>\n",
       "      <td>0.0000</td>\n",
       "      <td>0.000</td>\n",
       "      <td>245954</td>\n",
       "      <td>0</td>\n",
       "      <td>0</td>\n",
       "    </tr>\n",
       "    <tr>\n",
       "      <th>1993</th>\n",
       "      <td>No Tear</td>\n",
       "      <td>Perfume Genius</td>\n",
       "      <td>0.3540</td>\n",
       "      <td>0.242</td>\n",
       "      <td>9</td>\n",
       "      <td>-12.796</td>\n",
       "      <td>1</td>\n",
       "      <td>0.0406</td>\n",
       "      <td>0.808000</td>\n",
       "      <td>0.000000</td>\n",
       "      <td>0.1080</td>\n",
       "      <td>0.0628</td>\n",
       "      <td>171.314</td>\n",
       "      <td>109240</td>\n",
       "      <td>3</td>\n",
       "      <td>2</td>\n",
       "    </tr>\n",
       "    <tr>\n",
       "      <th>5886</th>\n",
       "      <td>Sac'ton camp</td>\n",
       "      <td>David Goudreault</td>\n",
       "      <td>0.4510</td>\n",
       "      <td>0.802</td>\n",
       "      <td>4</td>\n",
       "      <td>-7.845</td>\n",
       "      <td>0</td>\n",
       "      <td>0.0905</td>\n",
       "      <td>0.008510</td>\n",
       "      <td>0.116000</td>\n",
       "      <td>0.0822</td>\n",
       "      <td>0.4870</td>\n",
       "      <td>171.970</td>\n",
       "      <td>257161</td>\n",
       "      <td>4</td>\n",
       "      <td>4</td>\n",
       "    </tr>\n",
       "    <tr>\n",
       "      <th>10230</th>\n",
       "      <td>Moon</td>\n",
       "      <td>BTS</td>\n",
       "      <td>0.7030</td>\n",
       "      <td>0.646</td>\n",
       "      <td>6</td>\n",
       "      <td>-6.658</td>\n",
       "      <td>1</td>\n",
       "      <td>0.0596</td>\n",
       "      <td>0.010400</td>\n",
       "      <td>0.000000</td>\n",
       "      <td>0.1910</td>\n",
       "      <td>0.6400</td>\n",
       "      <td>141.870</td>\n",
       "      <td>208590</td>\n",
       "      <td>4</td>\n",
       "      <td>3</td>\n",
       "    </tr>\n",
       "    <tr>\n",
       "      <th>5117</th>\n",
       "      <td>Auto Man</td>\n",
       "      <td>Newcleus</td>\n",
       "      <td>0.6240</td>\n",
       "      <td>0.820</td>\n",
       "      <td>7</td>\n",
       "      <td>-7.676</td>\n",
       "      <td>1</td>\n",
       "      <td>0.0439</td>\n",
       "      <td>0.001070</td>\n",
       "      <td>0.227000</td>\n",
       "      <td>0.1840</td>\n",
       "      <td>0.1060</td>\n",
       "      <td>106.543</td>\n",
       "      <td>347960</td>\n",
       "      <td>4</td>\n",
       "      <td>3</td>\n",
       "    </tr>\n",
       "    <tr>\n",
       "      <th>2589</th>\n",
       "      <td>Souvenirs</td>\n",
       "      <td>Timber Timbre</td>\n",
       "      <td>0.0629</td>\n",
       "      <td>0.209</td>\n",
       "      <td>7</td>\n",
       "      <td>-16.442</td>\n",
       "      <td>0</td>\n",
       "      <td>0.0509</td>\n",
       "      <td>0.939000</td>\n",
       "      <td>0.964000</td>\n",
       "      <td>0.1500</td>\n",
       "      <td>0.0251</td>\n",
       "      <td>60.279</td>\n",
       "      <td>213653</td>\n",
       "      <td>4</td>\n",
       "      <td>0</td>\n",
       "    </tr>\n",
       "    <tr>\n",
       "      <th>10184</th>\n",
       "      <td>sage</td>\n",
       "      <td>OnlyOneOf</td>\n",
       "      <td>0.6320</td>\n",
       "      <td>0.927</td>\n",
       "      <td>0</td>\n",
       "      <td>-0.378</td>\n",
       "      <td>0</td>\n",
       "      <td>0.1040</td>\n",
       "      <td>0.059700</td>\n",
       "      <td>0.000000</td>\n",
       "      <td>0.0734</td>\n",
       "      <td>0.6670</td>\n",
       "      <td>102.989</td>\n",
       "      <td>179474</td>\n",
       "      <td>4</td>\n",
       "      <td>4</td>\n",
       "    </tr>\n",
       "    <tr>\n",
       "      <th>4789</th>\n",
       "      <td>Carry On Wayward Son</td>\n",
       "      <td>Kansas</td>\n",
       "      <td>0.4830</td>\n",
       "      <td>0.685</td>\n",
       "      <td>0</td>\n",
       "      <td>-8.941</td>\n",
       "      <td>1</td>\n",
       "      <td>0.0343</td>\n",
       "      <td>0.001840</td>\n",
       "      <td>0.000668</td>\n",
       "      <td>0.4570</td>\n",
       "      <td>0.7630</td>\n",
       "      <td>127.206</td>\n",
       "      <td>320907</td>\n",
       "      <td>4</td>\n",
       "      <td>3</td>\n",
       "    </tr>\n",
       "    <tr>\n",
       "      <th>3821</th>\n",
       "      <td>The Anthem</td>\n",
       "      <td>Good Charlotte</td>\n",
       "      <td>0.5630</td>\n",
       "      <td>0.947</td>\n",
       "      <td>1</td>\n",
       "      <td>-3.120</td>\n",
       "      <td>1</td>\n",
       "      <td>0.1040</td>\n",
       "      <td>0.006640</td>\n",
       "      <td>0.000000</td>\n",
       "      <td>0.2020</td>\n",
       "      <td>0.8710</td>\n",
       "      <td>88.884</td>\n",
       "      <td>174000</td>\n",
       "      <td>4</td>\n",
       "      <td>3</td>\n",
       "    </tr>\n",
       "    <tr>\n",
       "      <th>6607</th>\n",
       "      <td>All That I've Got</td>\n",
       "      <td>The Used</td>\n",
       "      <td>0.3350</td>\n",
       "      <td>0.858</td>\n",
       "      <td>7</td>\n",
       "      <td>-4.565</td>\n",
       "      <td>1</td>\n",
       "      <td>0.0532</td>\n",
       "      <td>0.002890</td>\n",
       "      <td>0.000000</td>\n",
       "      <td>0.1480</td>\n",
       "      <td>0.4510</td>\n",
       "      <td>177.981</td>\n",
       "      <td>230427</td>\n",
       "      <td>4</td>\n",
       "      <td>3</td>\n",
       "    </tr>\n",
       "    <tr>\n",
       "      <th>626</th>\n",
       "      <td>Eternal Happiness Or Woe</td>\n",
       "      <td>Sufjan Stevens</td>\n",
       "      <td>0.1930</td>\n",
       "      <td>0.296</td>\n",
       "      <td>6</td>\n",
       "      <td>-14.805</td>\n",
       "      <td>1</td>\n",
       "      <td>0.0421</td>\n",
       "      <td>0.917000</td>\n",
       "      <td>0.962000</td>\n",
       "      <td>0.1050</td>\n",
       "      <td>0.0378</td>\n",
       "      <td>134.313</td>\n",
       "      <td>82973</td>\n",
       "      <td>4</td>\n",
       "      <td>0</td>\n",
       "    </tr>\n",
       "  </tbody>\n",
       "</table>\n",
       "</div>"
      ],
      "text/plain": [
       "                                                    song  \\\n",
       "7756                            Love on Me - Ookay Remix   \n",
       "5911                                       Noire lumière   \n",
       "2502                                          Situations   \n",
       "9020   You Should Be Dancing - Edit / From \"Saturday ...   \n",
       "4343                                          Icky Thump   \n",
       "10194                                             Desire   \n",
       "1798                                               Merci   \n",
       "668                                                Faker   \n",
       "8360                                   The Things You Do   \n",
       "9541                                            Good Day   \n",
       "3713                                          Move Along   \n",
       "4668                                                 One   \n",
       "10946                    we'll stay inside when it rains   \n",
       "6837                Feel My Love - Manatee Commune Remix   \n",
       "790                                               Gaston   \n",
       "8915                                   It Is Well (Live)   \n",
       "5069                        California - Tchad Blake Mix   \n",
       "6618                                         Fool's Gold   \n",
       "946                 A Hard Day's Night - Remastered 2009   \n",
       "690                                                Fever   \n",
       "1993                                             No Tear   \n",
       "5886                                        Sac'ton camp   \n",
       "10230                                               Moon   \n",
       "5117                                            Auto Man   \n",
       "2589                                           Souvenirs   \n",
       "10184                                               sage   \n",
       "4789                                Carry On Wayward Son   \n",
       "3821                                          The Anthem   \n",
       "6607                                   All That I've Got   \n",
       "626                             Eternal Happiness Or Woe   \n",
       "\n",
       "                         artist  danceability  energy  key  loudness  mode  \\\n",
       "7756                   Galantis        0.7160   0.942    1    -2.761     0   \n",
       "5911           David Goudreault        0.5160   0.432    2    -9.485     1   \n",
       "2502               Jack Johnson        0.8850   0.329   11   -14.663     1   \n",
       "9020                   Bee Gees        0.6810   0.716    0   -10.911     1   \n",
       "4343          The White Stripes        0.4240   0.632    9    -7.243     1   \n",
       "10194                     ATEEZ        0.5800   0.810    0    -4.503     1   \n",
       "1798             Philippe Brach        0.3840   0.455    4    -6.964     0   \n",
       "668                  Miike Snow        0.5230   0.367    0    -9.903     0   \n",
       "8360            Griffin Stoller        0.6840   0.631    0    -6.746     0   \n",
       "9541                       DNCE        0.7210   0.660    5    -4.972     0   \n",
       "3713   The All-American Rejects        0.5180   0.916    3    -3.858     1   \n",
       "4668                 Aimee Mann        0.6120   0.166    4   -13.974     0   \n",
       "10946                    Rook1e        0.7000   0.134    9   -17.898     1   \n",
       "6837                Phebe Starr        0.7530   0.769    2    -5.668     1   \n",
       "790              Philippe Brach        0.5530   0.802    2    -5.731     0   \n",
       "8915               Bethel Music        0.2820   0.251    4   -10.648     0   \n",
       "5069             Phantom Planet        0.4000   0.805    4    -7.305     1   \n",
       "6618               Aaron Carter        0.6810   0.739    5    -3.938     0   \n",
       "946                 The Beatles        0.5900   0.805    0    -6.481     1   \n",
       "690              The Black Keys        0.0000   0.000    0   -60.000     0   \n",
       "1993             Perfume Genius        0.3540   0.242    9   -12.796     1   \n",
       "5886           David Goudreault        0.4510   0.802    4    -7.845     0   \n",
       "10230                       BTS        0.7030   0.646    6    -6.658     1   \n",
       "5117                   Newcleus        0.6240   0.820    7    -7.676     1   \n",
       "2589              Timber Timbre        0.0629   0.209    7   -16.442     0   \n",
       "10184                 OnlyOneOf        0.6320   0.927    0    -0.378     0   \n",
       "4789                     Kansas        0.4830   0.685    0    -8.941     1   \n",
       "3821             Good Charlotte        0.5630   0.947    1    -3.120     1   \n",
       "6607                   The Used        0.3350   0.858    7    -4.565     1   \n",
       "626              Sufjan Stevens        0.1930   0.296    6   -14.805     1   \n",
       "\n",
       "       speechiness  acousticness  instrumentalness  liveness  valence  \\\n",
       "7756        0.2070      0.034300          0.010100    0.7400   0.4150   \n",
       "5911        0.3440      0.905000          0.000000    0.0935   0.4520   \n",
       "2502        0.2380      0.860000          0.180000    0.1100   0.9020   \n",
       "9020        0.0333      0.018200          0.170000    0.3370   0.9630   \n",
       "4343        0.0922      0.021000          0.011700    0.0545   0.3560   \n",
       "10194       0.1020      0.014600          0.000000    0.7020   0.5740   \n",
       "1798        0.0291      0.727000          0.004790    0.0920   0.0686   \n",
       "668         0.0304      0.876000          0.917000    0.1920   0.3340   \n",
       "8360        0.0378      0.306000          0.000050    0.1030   0.5280   \n",
       "9541        0.0429      0.061300          0.000000    0.1710   0.8980   \n",
       "3713        0.0454      0.000148          0.000000    0.2910   0.6460   \n",
       "4668        0.0410      0.848000          0.001390    0.1250   0.3560   \n",
       "10946       0.0771      0.592000          0.845000    0.1070   0.4350   \n",
       "6837        0.1060      0.104000          0.000294    0.1040   0.2840   \n",
       "790         0.0702      0.182000          0.000001    0.0590   0.4960   \n",
       "8915        0.0315      0.699000          0.000015    0.1100   0.1100   \n",
       "5069        0.0407      0.038700          0.000054    0.1090   0.3240   \n",
       "6618        0.0337      0.049900          0.000000    0.0819   0.7830   \n",
       "946         0.0371      0.137000          0.000000    0.0996   0.7970   \n",
       "690         0.0000      0.000000          0.000000    0.0000   0.0000   \n",
       "1993        0.0406      0.808000          0.000000    0.1080   0.0628   \n",
       "5886        0.0905      0.008510          0.116000    0.0822   0.4870   \n",
       "10230       0.0596      0.010400          0.000000    0.1910   0.6400   \n",
       "5117        0.0439      0.001070          0.227000    0.1840   0.1060   \n",
       "2589        0.0509      0.939000          0.964000    0.1500   0.0251   \n",
       "10184       0.1040      0.059700          0.000000    0.0734   0.6670   \n",
       "4789        0.0343      0.001840          0.000668    0.4570   0.7630   \n",
       "3821        0.1040      0.006640          0.000000    0.2020   0.8710   \n",
       "6607        0.0532      0.002890          0.000000    0.1480   0.4510   \n",
       "626         0.0421      0.917000          0.962000    0.1050   0.0378   \n",
       "\n",
       "         tempo  duration_ms  time_signature  0  \n",
       "7756   123.982       227379               4  4  \n",
       "5911    84.848       199023               4  1  \n",
       "2502    93.510        77213               4  1  \n",
       "9020   123.009       256493               4  3  \n",
       "4343    97.694       254533               4  3  \n",
       "10194  101.971       234509               4  3  \n",
       "1798   115.892       260520               5  2  \n",
       "668    110.133       153667               4  0  \n",
       "8360    91.958       172174               4  4  \n",
       "9541   110.006       218973               4  4  \n",
       "3713   109.864       238880               4  3  \n",
       "4668   124.433       173653               4  2  \n",
       "10946  160.033       130586               4  0  \n",
       "6837   119.988       228000               4  3  \n",
       "790    125.914       225480               4  4  \n",
       "8915   129.826       385053               4  2  \n",
       "5069   158.459       193933               4  3  \n",
       "6618   130.046       196663               4  4  \n",
       "946    138.514       154200               4  3  \n",
       "690      0.000       245954               0  0  \n",
       "1993   171.314       109240               3  2  \n",
       "5886   171.970       257161               4  4  \n",
       "10230  141.870       208590               4  3  \n",
       "5117   106.543       347960               4  3  \n",
       "2589    60.279       213653               4  0  \n",
       "10184  102.989       179474               4  4  \n",
       "4789   127.206       320907               4  3  \n",
       "3821    88.884       174000               4  3  \n",
       "6607   177.981       230427               4  3  \n",
       "626    134.313        82973               4  0  "
      ]
     },
     "execution_count": 20,
     "metadata": {},
     "output_type": "execute_result"
    }
   ],
   "source": [
    "#now concatenating this with original spotify dataframe\n",
    "\n",
    "spotify_clusters_df = pd.concat([spotify_df,clusters],axis=1)\n",
    "\n",
    "spotify_clusters_df.sample(30)"
   ]
  },
  {
   "cell_type": "code",
   "execution_count": 46,
   "id": "stupid-dealing",
   "metadata": {},
   "outputs": [],
   "source": [
    "spotify_clusters_df = spotify_clusters_df.rename(columns={0:'clusters'})"
   ]
  },
  {
   "cell_type": "code",
   "execution_count": 47,
   "id": "informational-extraction",
   "metadata": {},
   "outputs": [
    {
     "data": {
      "text/plain": [
       "Index(['song', 'artist', 'danceability', 'energy', 'key', 'loudness', 'mode',\n",
       "       'speechiness', 'acousticness', 'instrumentalness', 'liveness',\n",
       "       'valence', 'tempo', 'duration_ms', 'time_signature', 'clusters'],\n",
       "      dtype='object')"
      ]
     },
     "execution_count": 47,
     "metadata": {},
     "output_type": "execute_result"
    }
   ],
   "source": [
    "spotify_clusters_df.columns"
   ]
  },
  {
   "cell_type": "markdown",
   "id": "occupied-agriculture",
   "metadata": {},
   "source": [
    "# Defining a function to recommend songs"
   ]
  },
  {
   "cell_type": "code",
   "execution_count": 26,
   "id": "known-realtor",
   "metadata": {},
   "outputs": [],
   "source": [
    "from time import sleep\n",
    "from random import randint"
   ]
  },
  {
   "cell_type": "code",
   "execution_count": 40,
   "id": "historic-grill",
   "metadata": {},
   "outputs": [],
   "source": [
    "def prototype_version():\n",
    "    print(\"------------------------------------\")\n",
    "    print(\"Welcome to song recommendation tool!\")\n",
    "    print(\"------------------------------------\")\n",
    "    print(\"    \")\n",
    "    sleep(1)\n",
    "    print(\"    \")\n",
    "    print(\"------------------------------------\")\n",
    "    print(\"We recommend songs based on hot trends and song's audio features.\")\n",
    "    print(\"If the song is trendy right now, we will recommend another trendy song for you!\")\n",
    "    print(\"Otherwise, we will base our recommendation based on audio features of the song!\")\n",
    "    print(\"------------------------------------\")\n",
    "    sleep(1)\n",
    "    print(\"    \")\n",
    "    sleep(1)\n",
    "    print(\"------------------------------------\")\n",
    "    user_input = input(\"What's a trendy song right now that you like :\").title()\n",
    "    if user_input in hot_df['song'].values:\n",
    "        recommendation = hot_df.sample()\n",
    "        print(\"------------------------------------\")\n",
    "        print(\"Great choice! It's trending all over billboard or iTunes right now!\")\n",
    "        sleep(1)\n",
    "        print(\"------------------------------------\")\n",
    "        print(\"You may like this song: \", recommendation['song'].values[0])\n",
    "        print('By artist: ', recommendation['artist'].values[0])\n",
    "        print(\"------------------------------------\")\n",
    "    else:\n",
    "        print(\"    \")\n",
    "        print(\"------------------------------------\")\n",
    "        print('Oh no! This song is not trending right now!')\n",
    "        print(\"------------------------------------\")"
   ]
  },
  {
   "cell_type": "code",
   "execution_count": 41,
   "id": "sought-benchmark",
   "metadata": {},
   "outputs": [
    {
     "name": "stdout",
     "output_type": "stream",
     "text": [
      "------------------------------------\n",
      "Welcome to song recommendation tool!\n",
      "------------------------------------\n",
      "    \n",
      "    \n",
      "------------------------------------\n",
      "We recommend songs based on hot trends and song's audio features.\n",
      "If the song is trendy right now, we will recommend another trendy song for you!\n",
      "Otherwise, we will base our recommendation based on audio features of the song!\n",
      "------------------------------------\n",
      "    \n",
      "------------------------------------\n",
      "What's a trendy song right now that you like :Rapstar\n",
      "------------------------------------\n",
      "Great choice! It's trending all over billboard or iTunes right now!\n",
      "------------------------------------\n",
      "You may like this song:  Imagine\n",
      "By artist:  Ben Platt\n",
      "------------------------------------\n"
     ]
    }
   ],
   "source": [
    "prototype_version()"
   ]
  },
  {
   "cell_type": "markdown",
   "id": "hired-handy",
   "metadata": {},
   "source": [
    "# Implementing clustered data into the function"
   ]
  },
  {
   "cell_type": "code",
   "execution_count": 42,
   "id": "friendly-upset",
   "metadata": {},
   "outputs": [],
   "source": [
    "import spotipy \n",
    "from spotipy.oauth2 import SpotifyClientCredentials\n",
    "import warnings\n",
    "warnings.filterwarnings('ignore')\n",
    "\n",
    "secrets_file = open(\"/Users/deshdeepak/ironhack/lessons/secret_spotify.txt\",\"r\")\n",
    "\n",
    "string = secrets_file.read()\n",
    "secrets_dict={}\n",
    "\n",
    "for line in string.split('\\n'):\n",
    "    secrets_dict[line.split(':')[0]]=line.split(':')[1]\n",
    "    \n",
    "sp = spotipy.Spotify(auth_manager=SpotifyClientCredentials(client_id= secrets_dict['cid'],\n",
    "                                                           client_secret=secrets_dict['csecret']))\n",
    "\n"
   ]
  },
  {
   "cell_type": "code",
   "execution_count": 76,
   "id": "nearby-upset",
   "metadata": {},
   "outputs": [],
   "source": [
    "def song_recommender():\n",
    "    print(\"------------------------------------\")\n",
    "    print(\"Welcome to song recommendation tool!\")\n",
    "    print(\"------------------------------------\")\n",
    "    print(\"    \")\n",
    "    sleep(1)\n",
    "    print(\"    \")\n",
    "    print(\"------------------------------------\")\n",
    "    print(\"We recommend songs based on hot trends and song's audio features.\")\n",
    "    print(\"If the song is trendy right now, we will recommend another trendy song for you!\")\n",
    "    print(\"Otherwise, we will base our recommendation based on audio features of the song!\")\n",
    "    print(\"------------------------------------\")\n",
    "    sleep(1)\n",
    "    print(\"    \")\n",
    "    sleep(1)\n",
    "    print(\"------------------------------------\")\n",
    "    user_input = input(\"What's a trendy song right now that you like :\").title()\n",
    "    if user_input in hot_df['song'].values:\n",
    "        recommendation = hot_df.sample()\n",
    "        print(\"------------------------------------\")\n",
    "        print(\"Great choice! It's trending all over billboard or iTunes right now!\")\n",
    "        sleep(1)\n",
    "        print(\"------------------------------------\")\n",
    "        print(\"You may like this song: \", recommendation['song'].values[0])\n",
    "        print('By artist: ', recommendation['artist'].values[0])\n",
    "        print(\"------------------------------------\")\n",
    "    else:\n",
    "        print(\"    \")\n",
    "        print(\"------------------------------------\")\n",
    "        print('Oh no! This song is not trending right now!')\n",
    "        print(\"------------------------------------\")\n",
    "        sleep(1)\n",
    "        print(\"But, no worries! We will look into Spotify and find a good match for you!\")\n",
    "        print(\"------------------------------------\")\n",
    "        sleep(1)\n",
    "        print(\"   \")\n",
    "        \n",
    "        results = sp.search(q=user_input, limit=1)      \n",
    "        uri = results[\"tracks\"][\"items\"][0][\"uri\"]\n",
    "        audio_features = sp.audio_features(uri)\n",
    "        audio_features_df = pd.DataFrame(audio_features)\n",
    "        num_audio_features_df = audio_features_df.select_dtypes(include=np.number)\n",
    "        scaled_af = scaler.transform(num_audio_features_df) \n",
    "        \n",
    "        # identifying k means cluster for user input song\n",
    "        predicted_cluster = kmeans.predict(scaled_af)\n",
    "        \n",
    "        # identifying the cluster where the song belongs\n",
    "        recommend_song_from_cluster = spotify_clusters_df[spotify_clusters_df['clusters'] == predicted_cluster[0]].sample()[['song','artist']] \n",
    "        \n",
    "        print(\"Whoa! That was a great song you chose!\") \n",
    "        print(\"Who says only hot songs are cool? Not you!\")\n",
    "        print(\"--------------------------------------\")\n",
    "        sleep(1)\n",
    "        print(\"    \")\n",
    "        print(\"Running final matching!\")\n",
    "        print(\"------------------------\")\n",
    "        print(\"Best match we found for you:   \")\n",
    "        print(\"     \")\n",
    "        print(\"|--------------------------------------------------|\")\n",
    "        print(recommend_song_from_cluster)\n",
    "        print(\"|--------------------------------------------------|\")\n",
    "        \n",
    "              \n",
    "             "
   ]
  },
  {
   "cell_type": "code",
   "execution_count": 77,
   "id": "absent-segment",
   "metadata": {},
   "outputs": [
    {
     "name": "stdout",
     "output_type": "stream",
     "text": [
      "------------------------------------\n",
      "Welcome to song recommendation tool!\n",
      "------------------------------------\n",
      "    \n",
      "    \n",
      "------------------------------------\n",
      "We recommend songs based on hot trends and song's audio features.\n",
      "If the song is trendy right now, we will recommend another trendy song for you!\n",
      "Otherwise, we will base our recommendation based on audio features of the song!\n",
      "------------------------------------\n",
      "    \n",
      "------------------------------------\n",
      "What's a trendy song right now that you like :silent night\n",
      "    \n",
      "------------------------------------\n",
      "Oh no! This song is not trending right now!\n",
      "------------------------------------\n",
      "But, no worries! We will look into Spotify and find a good match for you!\n",
      "------------------------------------\n",
      "   \n",
      "Whoa! That was a great song you chose!\n",
      "Who says only hot songs are cool? Not you!\n",
      "--------------------------------------\n",
      "    \n",
      "Running final matching!\n",
      "------------------------\n",
      "Best match we found for you:   \n",
      "     \n",
      "|--------------------------------------------------|\n",
      "              song              artist\n",
      "4602  Let's Groove  Earth, Wind & Fire\n",
      "|--------------------------------------------------|\n"
     ]
    }
   ],
   "source": [
    "song_recommender()"
   ]
  },
  {
   "cell_type": "code",
   "execution_count": 82,
   "id": "modified-import",
   "metadata": {},
   "outputs": [
    {
     "name": "stdout",
     "output_type": "stream",
     "text": [
      "------------------------------------\n",
      "Welcome to song recommendation tool!\n",
      "------------------------------------\n",
      "    \n",
      "    \n",
      "------------------------------------\n",
      "We recommend songs based on hot trends and song's audio features.\n",
      "If the song is trendy right now, we will recommend another trendy song for you!\n",
      "Otherwise, we will base our recommendation based on audio features of the song!\n",
      "------------------------------------\n",
      "    \n",
      "------------------------------------\n",
      "What's a trendy song right now that you like :Sunday morning coming down\n",
      "    \n",
      "------------------------------------\n",
      "Oh no! This song is not trending right now!\n",
      "------------------------------------\n",
      "But, no worries! We will look into Spotify and find a good match for you!\n",
      "------------------------------------\n",
      "   \n",
      "Whoa! That was a great song you chose!\n",
      "Who says only hot songs are cool? Not you!\n",
      "--------------------------------------\n",
      "    \n",
      "Running final matching!\n",
      "------------------------\n",
      "Best match we found for you:   \n",
      "     \n",
      "|--------------------------------------------------|\n",
      "                            song  artist\n",
      "5189  Cut Up Piano and Xylophone  Fridge\n",
      "|--------------------------------------------------|\n"
     ]
    }
   ],
   "source": [
    "song_recommender()\n"
   ]
  },
  {
   "cell_type": "code",
   "execution_count": 78,
   "id": "absent-november",
   "metadata": {},
   "outputs": [
    {
     "name": "stdout",
     "output_type": "stream",
     "text": [
      "------------------------------------\n",
      "Welcome to song recommendation tool!\n",
      "------------------------------------\n",
      "    \n",
      "    \n",
      "------------------------------------\n",
      "We recommend songs based on hot trends and song's audio features.\n",
      "If the song is trendy right now, we will recommend another trendy song for you!\n",
      "Otherwise, we will base our recommendation based on audio features of the song!\n",
      "------------------------------------\n",
      "    \n",
      "------------------------------------\n",
      "What's a trendy song right now that you like :rapstar\n",
      "------------------------------------\n",
      "Great choice! It's trending all over billboard or iTunes right now!\n",
      "------------------------------------\n",
      "You may like this song:  Even When / The Best Part (From \"High School Musical: The Musical: The Series\" Season 2)\n",
      "By artist:  Olivia Rodrigo & Joshua Bassett\n",
      "------------------------------------\n"
     ]
    }
   ],
   "source": [
    "song_recommender()\n"
   ]
  },
  {
   "cell_type": "code",
   "execution_count": null,
   "id": "entertaining-provincial",
   "metadata": {},
   "outputs": [],
   "source": []
  }
 ],
 "metadata": {
  "kernelspec": {
   "display_name": "Python 3",
   "language": "python",
   "name": "python3"
  },
  "language_info": {
   "codemirror_mode": {
    "name": "ipython",
    "version": 3
   },
   "file_extension": ".py",
   "mimetype": "text/x-python",
   "name": "python",
   "nbconvert_exporter": "python",
   "pygments_lexer": "ipython3",
   "version": "3.9.2"
  }
 },
 "nbformat": 4,
 "nbformat_minor": 5
}
